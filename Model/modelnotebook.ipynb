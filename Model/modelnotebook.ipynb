{
 "cells": [
  {
   "cell_type": "code",
   "execution_count": 11,
   "metadata": {},
   "outputs": [],
   "source": [
    "# Import Library\n",
    "\n",
    "import random\n",
    "import numpy as np\n",
    "import pandas as pd\n",
    "import matplotlib.pyplot as plt\n",
    "import seaborn as sns\n",
    "import nltk\n",
    "import re\n",
    "# from wordcloud import WordCloud\n",
    "import pickle\n",
    "import joblib\n",
    "import transformers\n",
    "from transformers import BertTokenizer\n",
    "from transformers import TFBertForSequenceClassification\n",
    "import tensorflow as tf\n",
    "from tensorflow import keras\n",
    "\n",
    "%matplotlib inline"
   ]
  },
  {
   "cell_type": "code",
   "execution_count": 12,
   "metadata": {},
   "outputs": [],
   "source": [
    "data = pd.read_csv('dataset/Fake_Real_News_Dataset.csv')"
   ]
  },
  {
   "cell_type": "code",
   "execution_count": 13,
   "metadata": {},
   "outputs": [
    {
     "data": {
      "text/html": [
       "<div>\n",
       "<style scoped>\n",
       "    .dataframe tbody tr th:only-of-type {\n",
       "        vertical-align: middle;\n",
       "    }\n",
       "\n",
       "    .dataframe tbody tr th {\n",
       "        vertical-align: top;\n",
       "    }\n",
       "\n",
       "    .dataframe thead th {\n",
       "        text-align: right;\n",
       "    }\n",
       "</style>\n",
       "<table border=\"1\" class=\"dataframe\">\n",
       "  <thead>\n",
       "    <tr style=\"text-align: right;\">\n",
       "      <th></th>\n",
       "      <th>berita</th>\n",
       "      <th>label</th>\n",
       "    </tr>\n",
       "  </thead>\n",
       "  <tbody>\n",
       "    <tr>\n",
       "      <th>0</th>\n",
       "      <td>\"Dalam sesuap daging ikan lele, terkandung 3.0...</td>\n",
       "      <td>1</td>\n",
       "    </tr>\n",
       "    <tr>\n",
       "      <th>1</th>\n",
       "      <td>Bahaya Mengkonsumsi Ikan Lele Yang Mengandung ...</td>\n",
       "      <td>1</td>\n",
       "    </tr>\n",
       "    <tr>\n",
       "      <th>2</th>\n",
       "      <td>Di jejaring sosial, banyak beredar informasi y...</td>\n",
       "      <td>1</td>\n",
       "    </tr>\n",
       "    <tr>\n",
       "      <th>3</th>\n",
       "      <td>Ikan lele disebut-sebut mengandung 3.000 sel k...</td>\n",
       "      <td>1</td>\n",
       "    </tr>\n",
       "    <tr>\n",
       "      <th>4</th>\n",
       "      <td>BENARKAH setiap sesuap daging ikan lele dapat ...</td>\n",
       "      <td>1</td>\n",
       "    </tr>\n",
       "  </tbody>\n",
       "</table>\n",
       "</div>"
      ],
      "text/plain": [
       "                                              berita  label\n",
       "0  \"Dalam sesuap daging ikan lele, terkandung 3.0...      1\n",
       "1  Bahaya Mengkonsumsi Ikan Lele Yang Mengandung ...      1\n",
       "2  Di jejaring sosial, banyak beredar informasi y...      1\n",
       "3  Ikan lele disebut-sebut mengandung 3.000 sel k...      1\n",
       "4  BENARKAH setiap sesuap daging ikan lele dapat ...      1"
      ]
     },
     "execution_count": 13,
     "metadata": {},
     "output_type": "execute_result"
    }
   ],
   "source": [
    "data.head()"
   ]
  },
  {
   "cell_type": "code",
   "execution_count": 14,
   "metadata": {},
   "outputs": [
    {
     "data": {
      "text/plain": [
       "array([1, 0], dtype=int64)"
      ]
     },
     "execution_count": 14,
     "metadata": {},
     "output_type": "execute_result"
    }
   ],
   "source": [
    "data['label'].unique()"
   ]
  },
  {
   "cell_type": "code",
   "execution_count": 15,
   "metadata": {},
   "outputs": [
    {
     "name": "stdout",
     "output_type": "stream",
     "text": [
      "<class 'pandas.core.frame.DataFrame'>\n",
      "RangeIndex: 956 entries, 0 to 955\n",
      "Data columns (total 2 columns):\n",
      " #   Column  Non-Null Count  Dtype \n",
      "---  ------  --------------  ----- \n",
      " 0   berita  956 non-null    object\n",
      " 1   label   956 non-null    int64 \n",
      "dtypes: int64(1), object(1)\n",
      "memory usage: 15.1+ KB\n"
     ]
    }
   ],
   "source": [
    "data.info()"
   ]
  },
  {
   "cell_type": "code",
   "execution_count": 16,
   "metadata": {},
   "outputs": [
    {
     "data": {
      "text/plain": [
       "<AxesSubplot:xlabel='label', ylabel='count'>"
      ]
     },
     "execution_count": 16,
     "metadata": {},
     "output_type": "execute_result"
    },
    {
     "data": {
      "image/png": "[encoded data removed]",
      "text/plain": [
       "<Figure size 720x432 with 1 Axes>"
      ]
     },
     "metadata": {
      "needs_background": "light"
     },
     "output_type": "display_data"
    }
   ],
   "source": [
    "plt.figure(figsize=(10,6))\n",
    "sns.countplot(x = 'label', data = data)"
   ]
  },
  {
   "cell_type": "code",
   "execution_count": 17,
   "metadata": {},
   "outputs": [
    {
     "name": "stdout",
     "output_type": "stream",
     "text": [
      "Total jumlah data 956 data\n",
      "\n",
      "Total jumlah data dengan label False/Hoax 478 data\n",
      "Total jumlah data dengan label True/Fact 478 data\n"
     ]
    }
   ],
   "source": [
    "print(f'Total jumlah data {data.shape[0]} data\\n')\n",
    "\n",
    "print(f'Total jumlah data dengan label False/Hoax {data[data.label == 1].shape[0]} data')\n",
    "print(f'Total jumlah data dengan label True/Fact {data[data.label == 0].shape[0]} data')"
   ]
  },
  {
   "cell_type": "markdown",
   "metadata": {},
   "source": [
    "# preprocessing"
   ]
  },
  {
   "cell_type": "code",
   "execution_count": 18,
   "metadata": {},
   "outputs": [],
   "source": [
    "import re\n",
    "\n",
    "def text_preprocessing(text):\n",
    "  text = text.lower()                               \n",
    "  text = re.sub(r'https?://\\S+|www\\.\\S+', '', text) \n",
    "  text = re.sub(r'[-+]?[0-9]+', '', text)           \n",
    "  text = re.sub(r'[^\\w\\s]','', text)\n",
    "  text = re.sub(r'ï½','', text)\n",
    "  text = re.sub(r'ï¿½','', text)\n",
    "  text = re.sub(r'\\n',' ', text)                                         \n",
    "  text = text.strip()                               \n",
    "  return text"
   ]
  },
  {
   "cell_type": "code",
   "execution_count": 19,
   "metadata": {},
   "outputs": [
    {
     "name": "stdout",
     "output_type": "stream",
     "text": [
      "CPU times: total: 78.1 ms\n",
      "Wall time: 86.8 ms\n"
     ]
    }
   ],
   "source": [
    "%time data['berita'] = data['berita'].apply(text_preprocessing)"
   ]
  },
  {
   "cell_type": "markdown",
   "metadata": {},
   "source": [
    "# Train & Test Data Splitting"
   ]
  },
  {
   "cell_type": "code",
   "execution_count": 20,
   "metadata": {},
   "outputs": [],
   "source": [
    "from sklearn.model_selection import train_test_split\n",
    "\n",
    "df_train, df_test = train_test_split(data, test_size = 0.2)\n",
    "df_val, df_test = train_test_split(df_test, test_size = 0.5)"
   ]
  },
  {
   "cell_type": "code",
   "execution_count": 21,
   "metadata": {},
   "outputs": [
    {
     "name": "stdout",
     "output_type": "stream",
     "text": [
      "Data Latih    = (764, 2)\n",
      "Data Uji      = (96, 2)\n",
      "Data Validasi = (96, 2)\n"
     ]
    }
   ],
   "source": [
    "print(f'Data Latih    = {df_train.shape}')\n",
    "print(f'Data Uji      = {df_test.shape}')\n",
    "print(f'Data Validasi = {df_val.shape}')"
   ]
  },
  {
   "cell_type": "markdown",
   "metadata": {},
   "source": [
    "# Load Tokenizer"
   ]
  },
  {
   "cell_type": "code",
   "execution_count": 22,
   "metadata": {},
   "outputs": [],
   "source": [
    "# Menentukan Pretrained model yang akan digunakan untuk fine-tuning\n",
    "# 1 = https://huggingface.co/indobenchmark/indobert-base-p2\n",
    "# 2 = https://huggingface.co/indolem/indobert-base-uncased\n",
    "\n",
    "PRE_TRAINED_MODEL = 'indolem/indobert-base-uncased'"
   ]
  },
  {
   "cell_type": "code",
   "execution_count": 23,
   "metadata": {},
   "outputs": [],
   "source": [
    "bert_tokenizer = BertTokenizer.from_pretrained(PRE_TRAINED_MODEL)  # Load tokenizer dari pre-trained model"
   ]
  },
  {
   "cell_type": "code",
   "execution_count": 24,
   "metadata": {},
   "outputs": [],
   "source": [
    "# Melihat vocabulary dari pre-trained model yang telah di load sebelumnya\n",
    "\n",
    "vocabulary = bert_tokenizer.get_vocab()"
   ]
  },
  {
   "cell_type": "code",
   "execution_count": 25,
   "metadata": {},
   "outputs": [
    {
     "name": "stdout",
     "output_type": "stream",
     "text": [
      "Kalimat: di jejaring sosial banyak beredar informasi yang menyebut lele sebagai ikan paling jorok dalam sesuap daging ikan lele terkandung  sel kanker julukan sebagai ikan paling jorok merujuk pada sifat lele yang doyan mengonsumsi segala jenis limbah di perairan bahkan sebuah artikel yang cukup viral di internet menyebutkan kotoran manusia juga dijadikan pakan pada sebuah budidaya lele di kota haikou china ikan ini dilengkapi alat pernapasan tambahan berupa labirin sehingga mampu bertahan hidup dalam kondisi perairan berlumpur atau bahkan tercemar agaknya hal inilah yang memunculkan dugaan soal akumulasi racun karsinogen penyebab kanker di tubuh ikan lele investigasi ikan lele yang beredar di pasaran bukan berasal dari alam liar lele banyak dibudidayakan di kolamkolam yang mestinya bisa dikendalikan agar bebas dari pencemaran pakan yang diberikan juga bisa dipilih tidak harus mengandalkan limbah jumlah produksi lele juga terus meningkat setiap tahunnya data kementerian kelautan dan perikanan kkp menyebut produksi lele pada  mencapai  ton meningkat dari  ton pada  dan  ton pada  konsumsi ikan lele menurut badan pusat statistik bps tercatat  kg  kapita  tahun naik dari  kg  kapita  tahun pada  di jakarta tak kurang dari  lapak pecel lele telah terdaftar di asosiasi pedagang kaki lima indonesia apkli soal kandungan nutrisi tak bisa dipungkiri bahwa lele adalah sumber protein berharga yang murah meriah fakta bahwa ikan lele juga rendah kolesterol sepertinya bakal menenggelamkan tudingan bahwa lele bisa memicu kanker dr dradjat r suardi spbkonk ahli kanker dari perhimpunan onkologi indonesia mengatakan hingga saat ini belum ada penelitian yang menyatakan jika memakan lele dapat memicu kanker\n",
      "BERT Tokenizer: ['di', 'jejaring', 'sosial', 'banyak', 'beredar', 'informasi', 'yang', 'menyebut', 'lele', 'sebagai', 'ikan', 'paling', 'jor', '##ok', 'dalam', 'sesu', '##ap', 'daging', 'ikan', 'lele', 'terkandung', 'sel', 'kanker', 'julukan', 'sebagai', 'ikan', 'paling', 'jor', '##ok', 'merujuk', 'pada', 'sifat', 'lele', 'yang', 'do', '##yan', 'mengonsumsi', 'segala', 'jenis', 'limbah', 'di', 'perairan', 'bahkan', 'sebuah', 'artikel', 'yang', 'cukup', 'vir', '##al', 'di', 'internet', 'menyebutkan', 'kotoran', 'manusia', 'juga', 'dijadikan', 'pakan', 'pada', 'sebuah', 'budidaya', 'lele', 'di', 'kota', 'hai', '##ko', '##u', 'china', 'ikan', 'ini', 'dilengkapi', 'alat', 'pernapasan', 'tambahan', 'berupa', 'lab', '##irin', 'sehingga', 'mampu', 'bertahan', 'hidup', 'dalam', 'kondisi', 'perairan', 'berlum', '##pur', 'atau', 'bahkan', 'tercemar', 'agaknya', 'hal', 'inilah', 'yang', 'memunculkan', 'dugaan', 'soal', 'akumulasi', 'racun', 'kar', '##sin', '##ogen', 'penyebab', 'kanker', 'di', 'tubuh', 'ikan', 'lele', 'investigasi', 'ikan', 'lele', 'yang', 'beredar', 'di', 'pasaran', 'bukan', 'berasal', 'dari', 'alam', 'liar', 'lele', 'banyak', 'dibudidayakan', 'di', 'kolam', '##kol', '##am', 'yang', 'mestinya', 'bisa', 'dikendalikan', 'agar', 'bebas', 'dari', 'pencemaran', 'pakan', 'yang', 'diberikan', 'juga', 'bisa', 'dipilih', 'tidak', 'harus', 'mengandalkan', 'limbah', 'jumlah', 'produksi', 'lele', 'juga', 'terus', 'meningkat', 'setiap', 'tahunnya', 'data', 'kementerian', 'kelautan', 'dan', 'perikanan', 'kk', '##p', 'menyebut', 'produksi', 'lele', 'pada', 'mencapai', 'ton', 'meningkat', 'dari', 'ton', 'pada', 'dan', 'ton', 'pada', 'konsumsi', 'ikan', 'lele', 'menurut', 'badan', 'pusat', 'statistik', 'bps', 'tercatat', 'kg', 'kapita', 'tahun', 'naik', 'dari', 'kg', 'kapita', 'tahun', 'pada', 'di', 'jakarta', 'tak', 'kurang', 'dari', 'lapak', 'pec', '##el', 'lele', 'telah', 'terdaftar', 'di', 'asosiasi', 'pedagang', 'kaki', 'lima', 'indonesia', 'ap', '##kl', '##i', 'soal', 'kandungan', 'nutrisi', 'tak', 'bisa', 'dipungkiri', 'bahwa', 'lele', 'adalah', 'sumber', 'protein', 'berharga', 'yang', 'murah', 'meriah', 'fakta', 'bahwa', 'ikan', 'lele', 'juga', 'rendah', 'kolesterol', 'sepertinya', 'bakal', 'menenggelamkan', 'tudingan', 'bahwa', 'lele', 'bisa', 'memicu', 'kanker', 'dr', 'dra', '##d', '##jat', 'r', 'suar', '##di', 'sp', '##b', '##kon', '##k', 'ahli', 'kanker', 'dari', 'perhimpunan', 'on', '##kol', '##ogi', 'indonesia', 'mengatakan', 'hingga', 'saat', 'ini', 'belum', 'ada', 'penelitian', 'yang', 'menyatakan', 'jika', 'memakan', 'lele', 'dapat', 'memicu', 'kanker']\n"
     ]
    }
   ],
   "source": [
    "# Contoh Tokenisasi\n",
    "\n",
    "id_data = 2 # Mengambil data indeks ke-5 pada dataframe\n",
    "\n",
    "print('Kalimat:', data.berita[id_data])\n",
    "print('BERT Tokenizer:', bert_tokenizer.tokenize(data.berita[id_data]))"
   ]
  },
  {
   "cell_type": "markdown",
   "metadata": {},
   "source": [
    "## Input Formatting"
   ]
  },
  {
   "cell_type": "code",
   "execution_count": 26,
   "metadata": {},
   "outputs": [
    {
     "data": {
      "text/plain": [
       "dict_keys(['input_ids', 'token_type_ids', 'attention_mask'])"
      ]
     },
     "execution_count": 26,
     "metadata": {},
     "output_type": "execute_result"
    }
   ],
   "source": [
    "# Membuat fungsi formatting untuk BERT\n",
    "\n",
    "bert_input = bert_tokenizer.encode_plus(\n",
    "    data.berita[id_data],\n",
    "    add_special_tokens = True,\n",
    "    padding = 'max_length',\n",
    "    truncation = 'longest_first',\n",
    "    max_length = 50,\n",
    "    return_attention_mask = True, \n",
    "    return_token_type_ids = True\n",
    ")\n",
    "\n",
    "# Fungsi encode plus mengembalikan 3 nilai: input_ids, token_type_ids, attention_mask\n",
    "bert_input.keys()"
   ]
  },
  {
   "cell_type": "code",
   "execution_count": 27,
   "metadata": {},
   "outputs": [
    {
     "name": "stdout",
     "output_type": "stream",
     "text": [
      "Kalimat \t\t di jejaring sosial banyak beredar informasi yang menyebut lele sebagai ikan paling jorok dalam sesuap daging ikan lele terkandung  sel kanker julukan sebagai ikan paling jorok merujuk pada sifat lele yang doyan mengonsumsi segala jenis limbah di perairan bahkan sebuah artikel yang cukup viral di internet menyebutkan kotoran manusia juga dijadikan pakan pada sebuah budidaya lele di kota haikou china ikan ini dilengkapi alat pernapasan tambahan berupa labirin sehingga mampu bertahan hidup dalam kondisi perairan berlumpur atau bahkan tercemar agaknya hal inilah yang memunculkan dugaan soal akumulasi racun karsinogen penyebab kanker di tubuh ikan lele investigasi ikan lele yang beredar di pasaran bukan berasal dari alam liar lele banyak dibudidayakan di kolamkolam yang mestinya bisa dikendalikan agar bebas dari pencemaran pakan yang diberikan juga bisa dipilih tidak harus mengandalkan limbah jumlah produksi lele juga terus meningkat setiap tahunnya data kementerian kelautan dan perikanan kkp menyebut produksi lele pada  mencapai  ton meningkat dari  ton pada  dan  ton pada  konsumsi ikan lele menurut badan pusat statistik bps tercatat  kg  kapita  tahun naik dari  kg  kapita  tahun pada  di jakarta tak kurang dari  lapak pecel lele telah terdaftar di asosiasi pedagang kaki lima indonesia apkli soal kandungan nutrisi tak bisa dipungkiri bahwa lele adalah sumber protein berharga yang murah meriah fakta bahwa ikan lele juga rendah kolesterol sepertinya bakal menenggelamkan tudingan bahwa lele bisa memicu kanker dr dradjat r suardi spbkonk ahli kanker dari perhimpunan onkologi indonesia mengatakan hingga saat ini belum ada penelitian yang menyatakan jika memakan lele dapat memicu kanker\n",
      "Tokenizer \t ['[CLS]', 'di', 'jejaring', 'sosial', 'banyak', 'beredar', 'informasi', 'yang', 'menyebut', 'lele', 'sebagai', 'ikan', 'paling', 'jor', '##ok', 'dalam', 'sesu', '##ap', 'daging', 'ikan', 'lele', 'terkandung', 'sel', 'kanker', 'julukan', 'sebagai', 'ikan', 'paling', 'jor', '##ok', 'merujuk', 'pada', 'sifat', 'lele', 'yang', 'do', '##yan', 'mengonsumsi', 'segala', 'jenis', 'limbah', 'di', 'perairan', 'bahkan', 'sebuah', 'artikel', 'yang', 'cukup', 'vir', '[SEP]']\n",
      "Input IDs \t [3, 1485, 15594, 2763, 1814, 8326, 2851, 1497, 3199, 26529, 1624, 3675, 2323, 16474, 1590, 1558, 2207, 1502, 5189, 3675, 26529, 11488, 1599, 6871, 8982, 1624, 3675, 2323, 16474, 1590, 6251, 1560, 3785, 26529, 1497, 4642, 5060, 14821, 3157, 2659, 9663, 1485, 6142, 2292, 1750, 4595, 1497, 2352, 4524, 4]\n",
      "Token Type IDs \t [0, 0, 0, 0, 0, 0, 0, 0, 0, 0, 0, 0, 0, 0, 0, 0, 0, 0, 0, 0, 0, 0, 0, 0, 0, 0, 0, 0, 0, 0, 0, 0, 0, 0, 0, 0, 0, 0, 0, 0, 0, 0, 0, 0, 0, 0, 0, 0, 0, 0]\n",
      "Attention Mask \t [1, 1, 1, 1, 1, 1, 1, 1, 1, 1, 1, 1, 1, 1, 1, 1, 1, 1, 1, 1, 1, 1, 1, 1, 1, 1, 1, 1, 1, 1, 1, 1, 1, 1, 1, 1, 1, 1, 1, 1, 1, 1, 1, 1, 1, 1, 1, 1, 1, 1]\n"
     ]
    }
   ],
   "source": [
    "print('Kalimat \\t\\t', data.berita[id_data])\n",
    "print('Tokenizer \\t', bert_tokenizer.convert_ids_to_tokens(bert_input['input_ids']))\n",
    "print('Input IDs \\t', bert_input['input_ids'])\n",
    "print('Token Type IDs \\t', bert_input['token_type_ids'])\n",
    "print('Attention Mask \\t', bert_input['attention_mask'])"
   ]
  },
  {
   "cell_type": "markdown",
   "metadata": {},
   "source": [
    "## Menentukan panjang Sequence"
   ]
  },
  {
   "cell_type": "code",
   "execution_count": 28,
   "metadata": {},
   "outputs": [
    {
     "data": {
      "text/plain": [
       "Text(0.5, 0, 'Token Count')"
      ]
     },
     "execution_count": 28,
     "metadata": {},
     "output_type": "execute_result"
    },
    {
     "data": {
      "image/png": "[encoded data removed]",
      "text/plain": [
       "<Figure size 432x288 with 1 Axes>"
      ]
     },
     "metadata": {
      "needs_background": "light"
     },
     "output_type": "display_data"
    }
   ],
   "source": [
    "token_lens = []\n",
    "\n",
    "for txt in data.berita:\n",
    "  tokens = bert_tokenizer.encode(txt)\n",
    "  token_lens.append(len(tokens))\n",
    "\n",
    "# Plot\n",
    "\n",
    "sns.histplot(token_lens, kde = True, stat = 'density', linewidth = 0)\n",
    "plt.xlim([0, 1400])\n",
    "plt.xlabel('Token Count')"
   ]
  },
  {
   "cell_type": "code",
   "execution_count": 29,
   "metadata": {},
   "outputs": [],
   "source": [
    "MAX_LEN = 512"
   ]
  },
  {
   "cell_type": "markdown",
   "metadata": {},
   "source": [
    "## Input Formating pada Data Latih dan Data Uji"
   ]
  },
  {
   "cell_type": "code",
   "execution_count": 30,
   "metadata": {},
   "outputs": [],
   "source": [
    "def convert_example_to_feature(sentence):\n",
    "    return bert_tokenizer.encode_plus(\n",
    "        sentence,\n",
    "        add_special_tokens = True,\n",
    "        padding = 'max_length',\n",
    "        truncation = 'longest_first',\n",
    "        max_length = MAX_LEN,\n",
    "        return_attention_mask = True,\n",
    "        return_token_type_ids = True\n",
    "    )"
   ]
  },
  {
   "cell_type": "code",
   "execution_count": 31,
   "metadata": {},
   "outputs": [],
   "source": [
    "# Fungsi untuk memetakan input hasil input formatting agar sesuai dengan model BERT\n",
    "\n",
    "def map_example_to_dict(input_ids, attention_masks, token_type_ids, label):\n",
    "  return {\n",
    "      \"input_ids\": input_ids,\n",
    "      \"token_type_ids\": token_type_ids,\n",
    "      \"attention_mask\": attention_masks,\n",
    "  }, label"
   ]
  },
  {
   "cell_type": "code",
   "execution_count": 32,
   "metadata": {},
   "outputs": [],
   "source": [
    "# Fungsi iterasi pada setiap kalimat \n",
    "\n",
    "def encode(data):\n",
    "    input_ids_list = []\n",
    "    token_type_ids_list = []\n",
    "    attention_mask_list = []\n",
    "    label_list = []\n",
    "    for sentence, label in data.to_numpy():\n",
    "\n",
    "        bert_input = convert_example_to_feature(sentence)\n",
    "\n",
    "        input_ids_list.append(bert_input['input_ids'])\n",
    "        token_type_ids_list.append(bert_input['token_type_ids'])\n",
    "        attention_mask_list.append(bert_input['attention_mask'])\n",
    "        label_list.append([label])\n",
    "\n",
    "    return tf.data.Dataset.from_tensor_slices((input_ids_list,\n",
    "                                                attention_mask_list,\n",
    "                                                token_type_ids_list,\n",
    "                                                label_list)).map(map_example_to_dict)"
   ]
  },
  {
   "cell_type": "code",
   "execution_count": 53,
   "metadata": {},
   "outputs": [],
   "source": [
    "# Menentukan Hyperparameter\n",
    "\n",
    "EPOCHS = 10\n",
    "BATCH_SIZE = 10\n",
    "LEARNING_RATE = 5e-5"
   ]
  },
  {
   "cell_type": "code",
   "execution_count": 34,
   "metadata": {},
   "outputs": [],
   "source": [
    "# Melakukan input Formatting pada keseluruhan data\n",
    "\n",
    "train_encoded = encode(df_train).batch(BATCH_SIZE)\n",
    "test_encoded = encode(df_test).batch(BATCH_SIZE)\n",
    "val_encoded = encode(df_val).batch(BATCH_SIZE)"
   ]
  },
  {
   "cell_type": "markdown",
   "metadata": {},
   "source": [
    "# Load PreTrained Model"
   ]
  },
  {
   "cell_type": "code",
   "execution_count": 35,
   "metadata": {},
   "outputs": [
    {
     "name": "stderr",
     "output_type": "stream",
     "text": [
      "All PyTorch model weights were used when initializing TFBertForSequenceClassification.\n",
      "\n",
      "Some weights or buffers of the TF 2.0 model TFBertForSequenceClassification were not initialized from the PyTorch model and are newly initialized: ['classifier.weight', 'classifier.bias']\n",
      "You should probably TRAIN this model on a down-stream task to be able to use it for predictions and inference.\n"
     ]
    }
   ],
   "source": [
    "bert_model = TFBertForSequenceClassification.from_pretrained(PRE_TRAINED_MODEL, num_labels = 2, from_pt=True)"
   ]
  },
  {
   "cell_type": "code",
   "execution_count": 36,
   "metadata": {},
   "outputs": [],
   "source": [
    "optimizer = tf.keras.optimizers.Adam(learning_rate = LEARNING_RATE)\n",
    "\n",
    "loss = tf.keras.losses.SparseCategoricalCrossentropy(from_logits = True)\n",
    "metric = tf.keras.metrics.SparseCategoricalAccuracy('accuracy')\n",
    "\n",
    "# Compile model\n",
    "bert_model.compile(optimizer = optimizer, loss = loss, metrics = [metric])"
   ]
  },
  {
   "cell_type": "markdown",
   "metadata": {},
   "source": [
    "# Fine Tuning"
   ]
  },
  {
   "cell_type": "code",
   "execution_count": 54,
   "metadata": {},
   "outputs": [
    {
     "name": "stdout",
     "output_type": "stream",
     "text": [
      "Epoch 1/10\n",
      " 1/96 [..............................] - ETA: 31:03 - loss: 0.3671 - accuracy: 1.0000"
     ]
    },
    {
     "ename": "KeyboardInterrupt",
     "evalue": "",
     "output_type": "error",
     "traceback": [
      "\u001b[1;31m---------------------------------------------------------------------------\u001b[0m",
      "\u001b[1;31mKeyboardInterrupt\u001b[0m                         Traceback (most recent call last)",
      "File \u001b[1;32m<timed exec>:1\u001b[0m, in \u001b[0;36m<module>\u001b[1;34m\u001b[0m\n",
      "File \u001b[1;32mc:\\Users\\Admin\\AppData\\Local\\Programs\\Python\\Python310\\lib\\site-packages\\keras\\utils\\traceback_utils.py:64\u001b[0m, in \u001b[0;36mfilter_traceback.<locals>.error_handler\u001b[1;34m(*args, **kwargs)\u001b[0m\n\u001b[0;32m     <a href='file:///c%3A/Users/Admin/AppData/Local/Programs/Python/Python310/lib/site-packages/keras/utils/traceback_utils.py?line=61'>62</a>\u001b[0m filtered_tb \u001b[39m=\u001b[39m \u001b[39mNone\u001b[39;00m\n\u001b[0;32m     <a href='file:///c%3A/Users/Admin/AppData/Local/Programs/Python/Python310/lib/site-packages/keras/utils/traceback_utils.py?line=62'>63</a>\u001b[0m \u001b[39mtry\u001b[39;00m:\n\u001b[1;32m---> <a href='file:///c%3A/Users/Admin/AppData/Local/Programs/Python/Python310/lib/site-packages/keras/utils/traceback_utils.py?line=63'>64</a>\u001b[0m   \u001b[39mreturn\u001b[39;00m fn(\u001b[39m*\u001b[39margs, \u001b[39m*\u001b[39m\u001b[39m*\u001b[39mkwargs)\n\u001b[0;32m     <a href='file:///c%3A/Users/Admin/AppData/Local/Programs/Python/Python310/lib/site-packages/keras/utils/traceback_utils.py?line=64'>65</a>\u001b[0m \u001b[39mexcept\u001b[39;00m \u001b[39mException\u001b[39;00m \u001b[39mas\u001b[39;00m e:  \u001b[39m# pylint: disable=broad-except\u001b[39;00m\n\u001b[0;32m     <a href='file:///c%3A/Users/Admin/AppData/Local/Programs/Python/Python310/lib/site-packages/keras/utils/traceback_utils.py?line=65'>66</a>\u001b[0m   filtered_tb \u001b[39m=\u001b[39m _process_traceback_frames(e\u001b[39m.\u001b[39m__traceback__)\n",
      "File \u001b[1;32mc:\\Users\\Admin\\AppData\\Local\\Programs\\Python\\Python310\\lib\\site-packages\\keras\\engine\\training.py:1384\u001b[0m, in \u001b[0;36mModel.fit\u001b[1;34m(self, x, y, batch_size, epochs, verbose, callbacks, validation_split, validation_data, shuffle, class_weight, sample_weight, initial_epoch, steps_per_epoch, validation_steps, validation_batch_size, validation_freq, max_queue_size, workers, use_multiprocessing)\u001b[0m\n\u001b[0;32m   <a href='file:///c%3A/Users/Admin/AppData/Local/Programs/Python/Python310/lib/site-packages/keras/engine/training.py?line=1376'>1377</a>\u001b[0m \u001b[39mwith\u001b[39;00m tf\u001b[39m.\u001b[39mprofiler\u001b[39m.\u001b[39mexperimental\u001b[39m.\u001b[39mTrace(\n\u001b[0;32m   <a href='file:///c%3A/Users/Admin/AppData/Local/Programs/Python/Python310/lib/site-packages/keras/engine/training.py?line=1377'>1378</a>\u001b[0m     \u001b[39m'\u001b[39m\u001b[39mtrain\u001b[39m\u001b[39m'\u001b[39m,\n\u001b[0;32m   <a href='file:///c%3A/Users/Admin/AppData/Local/Programs/Python/Python310/lib/site-packages/keras/engine/training.py?line=1378'>1379</a>\u001b[0m     epoch_num\u001b[39m=\u001b[39mepoch,\n\u001b[0;32m   <a href='file:///c%3A/Users/Admin/AppData/Local/Programs/Python/Python310/lib/site-packages/keras/engine/training.py?line=1379'>1380</a>\u001b[0m     step_num\u001b[39m=\u001b[39mstep,\n\u001b[0;32m   <a href='file:///c%3A/Users/Admin/AppData/Local/Programs/Python/Python310/lib/site-packages/keras/engine/training.py?line=1380'>1381</a>\u001b[0m     batch_size\u001b[39m=\u001b[39mbatch_size,\n\u001b[0;32m   <a href='file:///c%3A/Users/Admin/AppData/Local/Programs/Python/Python310/lib/site-packages/keras/engine/training.py?line=1381'>1382</a>\u001b[0m     _r\u001b[39m=\u001b[39m\u001b[39m1\u001b[39m):\n\u001b[0;32m   <a href='file:///c%3A/Users/Admin/AppData/Local/Programs/Python/Python310/lib/site-packages/keras/engine/training.py?line=1382'>1383</a>\u001b[0m   callbacks\u001b[39m.\u001b[39mon_train_batch_begin(step)\n\u001b[1;32m-> <a href='file:///c%3A/Users/Admin/AppData/Local/Programs/Python/Python310/lib/site-packages/keras/engine/training.py?line=1383'>1384</a>\u001b[0m   tmp_logs \u001b[39m=\u001b[39m \u001b[39mself\u001b[39;49m\u001b[39m.\u001b[39;49mtrain_function(iterator)\n\u001b[0;32m   <a href='file:///c%3A/Users/Admin/AppData/Local/Programs/Python/Python310/lib/site-packages/keras/engine/training.py?line=1384'>1385</a>\u001b[0m   \u001b[39mif\u001b[39;00m data_handler\u001b[39m.\u001b[39mshould_sync:\n\u001b[0;32m   <a href='file:///c%3A/Users/Admin/AppData/Local/Programs/Python/Python310/lib/site-packages/keras/engine/training.py?line=1385'>1386</a>\u001b[0m     context\u001b[39m.\u001b[39masync_wait()\n",
      "File \u001b[1;32mc:\\Users\\Admin\\AppData\\Local\\Programs\\Python\\Python310\\lib\\site-packages\\tensorflow\\python\\util\\traceback_utils.py:150\u001b[0m, in \u001b[0;36mfilter_traceback.<locals>.error_handler\u001b[1;34m(*args, **kwargs)\u001b[0m\n\u001b[0;32m    <a href='file:///c%3A/Users/Admin/AppData/Local/Programs/Python/Python310/lib/site-packages/tensorflow/python/util/traceback_utils.py?line=147'>148</a>\u001b[0m filtered_tb \u001b[39m=\u001b[39m \u001b[39mNone\u001b[39;00m\n\u001b[0;32m    <a href='file:///c%3A/Users/Admin/AppData/Local/Programs/Python/Python310/lib/site-packages/tensorflow/python/util/traceback_utils.py?line=148'>149</a>\u001b[0m \u001b[39mtry\u001b[39;00m:\n\u001b[1;32m--> <a href='file:///c%3A/Users/Admin/AppData/Local/Programs/Python/Python310/lib/site-packages/tensorflow/python/util/traceback_utils.py?line=149'>150</a>\u001b[0m   \u001b[39mreturn\u001b[39;00m fn(\u001b[39m*\u001b[39margs, \u001b[39m*\u001b[39m\u001b[39m*\u001b[39mkwargs)\n\u001b[0;32m    <a href='file:///c%3A/Users/Admin/AppData/Local/Programs/Python/Python310/lib/site-packages/tensorflow/python/util/traceback_utils.py?line=150'>151</a>\u001b[0m \u001b[39mexcept\u001b[39;00m \u001b[39mException\u001b[39;00m \u001b[39mas\u001b[39;00m e:\n\u001b[0;32m    <a href='file:///c%3A/Users/Admin/AppData/Local/Programs/Python/Python310/lib/site-packages/tensorflow/python/util/traceback_utils.py?line=151'>152</a>\u001b[0m   filtered_tb \u001b[39m=\u001b[39m _process_traceback_frames(e\u001b[39m.\u001b[39m__traceback__)\n",
      "File \u001b[1;32mc:\\Users\\Admin\\AppData\\Local\\Programs\\Python\\Python310\\lib\\site-packages\\tensorflow\\python\\eager\\def_function.py:915\u001b[0m, in \u001b[0;36mFunction.__call__\u001b[1;34m(self, *args, **kwds)\u001b[0m\n\u001b[0;32m    <a href='file:///c%3A/Users/Admin/AppData/Local/Programs/Python/Python310/lib/site-packages/tensorflow/python/eager/def_function.py?line=911'>912</a>\u001b[0m compiler \u001b[39m=\u001b[39m \u001b[39m\"\u001b[39m\u001b[39mxla\u001b[39m\u001b[39m\"\u001b[39m \u001b[39mif\u001b[39;00m \u001b[39mself\u001b[39m\u001b[39m.\u001b[39m_jit_compile \u001b[39melse\u001b[39;00m \u001b[39m\"\u001b[39m\u001b[39mnonXla\u001b[39m\u001b[39m\"\u001b[39m\n\u001b[0;32m    <a href='file:///c%3A/Users/Admin/AppData/Local/Programs/Python/Python310/lib/site-packages/tensorflow/python/eager/def_function.py?line=913'>914</a>\u001b[0m \u001b[39mwith\u001b[39;00m OptionalXlaContext(\u001b[39mself\u001b[39m\u001b[39m.\u001b[39m_jit_compile):\n\u001b[1;32m--> <a href='file:///c%3A/Users/Admin/AppData/Local/Programs/Python/Python310/lib/site-packages/tensorflow/python/eager/def_function.py?line=914'>915</a>\u001b[0m   result \u001b[39m=\u001b[39m \u001b[39mself\u001b[39m\u001b[39m.\u001b[39m_call(\u001b[39m*\u001b[39margs, \u001b[39m*\u001b[39m\u001b[39m*\u001b[39mkwds)\n\u001b[0;32m    <a href='file:///c%3A/Users/Admin/AppData/Local/Programs/Python/Python310/lib/site-packages/tensorflow/python/eager/def_function.py?line=916'>917</a>\u001b[0m new_tracing_count \u001b[39m=\u001b[39m \u001b[39mself\u001b[39m\u001b[39m.\u001b[39mexperimental_get_tracing_count()\n\u001b[0;32m    <a href='file:///c%3A/Users/Admin/AppData/Local/Programs/Python/Python310/lib/site-packages/tensorflow/python/eager/def_function.py?line=917'>918</a>\u001b[0m without_tracing \u001b[39m=\u001b[39m (tracing_count \u001b[39m==\u001b[39m new_tracing_count)\n",
      "File \u001b[1;32mc:\\Users\\Admin\\AppData\\Local\\Programs\\Python\\Python310\\lib\\site-packages\\tensorflow\\python\\eager\\def_function.py:947\u001b[0m, in \u001b[0;36mFunction._call\u001b[1;34m(self, *args, **kwds)\u001b[0m\n\u001b[0;32m    <a href='file:///c%3A/Users/Admin/AppData/Local/Programs/Python/Python310/lib/site-packages/tensorflow/python/eager/def_function.py?line=943'>944</a>\u001b[0m   \u001b[39mself\u001b[39m\u001b[39m.\u001b[39m_lock\u001b[39m.\u001b[39mrelease()\n\u001b[0;32m    <a href='file:///c%3A/Users/Admin/AppData/Local/Programs/Python/Python310/lib/site-packages/tensorflow/python/eager/def_function.py?line=944'>945</a>\u001b[0m   \u001b[39m# In this case we have created variables on the first call, so we run the\u001b[39;00m\n\u001b[0;32m    <a href='file:///c%3A/Users/Admin/AppData/Local/Programs/Python/Python310/lib/site-packages/tensorflow/python/eager/def_function.py?line=945'>946</a>\u001b[0m   \u001b[39m# defunned version which is guaranteed to never create variables.\u001b[39;00m\n\u001b[1;32m--> <a href='file:///c%3A/Users/Admin/AppData/Local/Programs/Python/Python310/lib/site-packages/tensorflow/python/eager/def_function.py?line=946'>947</a>\u001b[0m   \u001b[39mreturn\u001b[39;00m \u001b[39mself\u001b[39m\u001b[39m.\u001b[39m_stateless_fn(\u001b[39m*\u001b[39margs, \u001b[39m*\u001b[39m\u001b[39m*\u001b[39mkwds)  \u001b[39m# pylint: disable=not-callable\u001b[39;00m\n\u001b[0;32m    <a href='file:///c%3A/Users/Admin/AppData/Local/Programs/Python/Python310/lib/site-packages/tensorflow/python/eager/def_function.py?line=947'>948</a>\u001b[0m \u001b[39melif\u001b[39;00m \u001b[39mself\u001b[39m\u001b[39m.\u001b[39m_stateful_fn \u001b[39mis\u001b[39;00m \u001b[39mnot\u001b[39;00m \u001b[39mNone\u001b[39;00m:\n\u001b[0;32m    <a href='file:///c%3A/Users/Admin/AppData/Local/Programs/Python/Python310/lib/site-packages/tensorflow/python/eager/def_function.py?line=948'>949</a>\u001b[0m   \u001b[39m# Release the lock early so that multiple threads can perform the call\u001b[39;00m\n\u001b[0;32m    <a href='file:///c%3A/Users/Admin/AppData/Local/Programs/Python/Python310/lib/site-packages/tensorflow/python/eager/def_function.py?line=949'>950</a>\u001b[0m   \u001b[39m# in parallel.\u001b[39;00m\n\u001b[0;32m    <a href='file:///c%3A/Users/Admin/AppData/Local/Programs/Python/Python310/lib/site-packages/tensorflow/python/eager/def_function.py?line=950'>951</a>\u001b[0m   \u001b[39mself\u001b[39m\u001b[39m.\u001b[39m_lock\u001b[39m.\u001b[39mrelease()\n",
      "File \u001b[1;32mc:\\Users\\Admin\\AppData\\Local\\Programs\\Python\\Python310\\lib\\site-packages\\tensorflow\\python\\eager\\function.py:2956\u001b[0m, in \u001b[0;36mFunction.__call__\u001b[1;34m(self, *args, **kwargs)\u001b[0m\n\u001b[0;32m   <a href='file:///c%3A/Users/Admin/AppData/Local/Programs/Python/Python310/lib/site-packages/tensorflow/python/eager/function.py?line=2952'>2953</a>\u001b[0m \u001b[39mwith\u001b[39;00m \u001b[39mself\u001b[39m\u001b[39m.\u001b[39m_lock:\n\u001b[0;32m   <a href='file:///c%3A/Users/Admin/AppData/Local/Programs/Python/Python310/lib/site-packages/tensorflow/python/eager/function.py?line=2953'>2954</a>\u001b[0m   (graph_function,\n\u001b[0;32m   <a href='file:///c%3A/Users/Admin/AppData/Local/Programs/Python/Python310/lib/site-packages/tensorflow/python/eager/function.py?line=2954'>2955</a>\u001b[0m    filtered_flat_args) \u001b[39m=\u001b[39m \u001b[39mself\u001b[39m\u001b[39m.\u001b[39m_maybe_define_function(args, kwargs)\n\u001b[1;32m-> <a href='file:///c%3A/Users/Admin/AppData/Local/Programs/Python/Python310/lib/site-packages/tensorflow/python/eager/function.py?line=2955'>2956</a>\u001b[0m \u001b[39mreturn\u001b[39;00m graph_function\u001b[39m.\u001b[39;49m_call_flat(\n\u001b[0;32m   <a href='file:///c%3A/Users/Admin/AppData/Local/Programs/Python/Python310/lib/site-packages/tensorflow/python/eager/function.py?line=2956'>2957</a>\u001b[0m     filtered_flat_args, captured_inputs\u001b[39m=\u001b[39;49mgraph_function\u001b[39m.\u001b[39;49mcaptured_inputs)\n",
      "File \u001b[1;32mc:\\Users\\Admin\\AppData\\Local\\Programs\\Python\\Python310\\lib\\site-packages\\tensorflow\\python\\eager\\function.py:1853\u001b[0m, in \u001b[0;36mConcreteFunction._call_flat\u001b[1;34m(self, args, captured_inputs, cancellation_manager)\u001b[0m\n\u001b[0;32m   <a href='file:///c%3A/Users/Admin/AppData/Local/Programs/Python/Python310/lib/site-packages/tensorflow/python/eager/function.py?line=1848'>1849</a>\u001b[0m possible_gradient_type \u001b[39m=\u001b[39m gradients_util\u001b[39m.\u001b[39mPossibleTapeGradientTypes(args)\n\u001b[0;32m   <a href='file:///c%3A/Users/Admin/AppData/Local/Programs/Python/Python310/lib/site-packages/tensorflow/python/eager/function.py?line=1849'>1850</a>\u001b[0m \u001b[39mif\u001b[39;00m (possible_gradient_type \u001b[39m==\u001b[39m gradients_util\u001b[39m.\u001b[39mPOSSIBLE_GRADIENT_TYPES_NONE\n\u001b[0;32m   <a href='file:///c%3A/Users/Admin/AppData/Local/Programs/Python/Python310/lib/site-packages/tensorflow/python/eager/function.py?line=1850'>1851</a>\u001b[0m     \u001b[39mand\u001b[39;00m executing_eagerly):\n\u001b[0;32m   <a href='file:///c%3A/Users/Admin/AppData/Local/Programs/Python/Python310/lib/site-packages/tensorflow/python/eager/function.py?line=1851'>1852</a>\u001b[0m   \u001b[39m# No tape is watching; skip to running the function.\u001b[39;00m\n\u001b[1;32m-> <a href='file:///c%3A/Users/Admin/AppData/Local/Programs/Python/Python310/lib/site-packages/tensorflow/python/eager/function.py?line=1852'>1853</a>\u001b[0m   \u001b[39mreturn\u001b[39;00m \u001b[39mself\u001b[39m\u001b[39m.\u001b[39m_build_call_outputs(\u001b[39mself\u001b[39;49m\u001b[39m.\u001b[39;49m_inference_function\u001b[39m.\u001b[39;49mcall(\n\u001b[0;32m   <a href='file:///c%3A/Users/Admin/AppData/Local/Programs/Python/Python310/lib/site-packages/tensorflow/python/eager/function.py?line=1853'>1854</a>\u001b[0m       ctx, args, cancellation_manager\u001b[39m=\u001b[39;49mcancellation_manager))\n\u001b[0;32m   <a href='file:///c%3A/Users/Admin/AppData/Local/Programs/Python/Python310/lib/site-packages/tensorflow/python/eager/function.py?line=1854'>1855</a>\u001b[0m forward_backward \u001b[39m=\u001b[39m \u001b[39mself\u001b[39m\u001b[39m.\u001b[39m_select_forward_and_backward_functions(\n\u001b[0;32m   <a href='file:///c%3A/Users/Admin/AppData/Local/Programs/Python/Python310/lib/site-packages/tensorflow/python/eager/function.py?line=1855'>1856</a>\u001b[0m     args,\n\u001b[0;32m   <a href='file:///c%3A/Users/Admin/AppData/Local/Programs/Python/Python310/lib/site-packages/tensorflow/python/eager/function.py?line=1856'>1857</a>\u001b[0m     possible_gradient_type,\n\u001b[0;32m   <a href='file:///c%3A/Users/Admin/AppData/Local/Programs/Python/Python310/lib/site-packages/tensorflow/python/eager/function.py?line=1857'>1858</a>\u001b[0m     executing_eagerly)\n\u001b[0;32m   <a href='file:///c%3A/Users/Admin/AppData/Local/Programs/Python/Python310/lib/site-packages/tensorflow/python/eager/function.py?line=1858'>1859</a>\u001b[0m forward_function, args_with_tangents \u001b[39m=\u001b[39m forward_backward\u001b[39m.\u001b[39mforward()\n",
      "File \u001b[1;32mc:\\Users\\Admin\\AppData\\Local\\Programs\\Python\\Python310\\lib\\site-packages\\tensorflow\\python\\eager\\function.py:499\u001b[0m, in \u001b[0;36m_EagerDefinedFunction.call\u001b[1;34m(self, ctx, args, cancellation_manager)\u001b[0m\n\u001b[0;32m    <a href='file:///c%3A/Users/Admin/AppData/Local/Programs/Python/Python310/lib/site-packages/tensorflow/python/eager/function.py?line=496'>497</a>\u001b[0m \u001b[39mwith\u001b[39;00m _InterpolateFunctionError(\u001b[39mself\u001b[39m):\n\u001b[0;32m    <a href='file:///c%3A/Users/Admin/AppData/Local/Programs/Python/Python310/lib/site-packages/tensorflow/python/eager/function.py?line=497'>498</a>\u001b[0m   \u001b[39mif\u001b[39;00m cancellation_manager \u001b[39mis\u001b[39;00m \u001b[39mNone\u001b[39;00m:\n\u001b[1;32m--> <a href='file:///c%3A/Users/Admin/AppData/Local/Programs/Python/Python310/lib/site-packages/tensorflow/python/eager/function.py?line=498'>499</a>\u001b[0m     outputs \u001b[39m=\u001b[39m execute\u001b[39m.\u001b[39;49mexecute(\n\u001b[0;32m    <a href='file:///c%3A/Users/Admin/AppData/Local/Programs/Python/Python310/lib/site-packages/tensorflow/python/eager/function.py?line=499'>500</a>\u001b[0m         \u001b[39mstr\u001b[39;49m(\u001b[39mself\u001b[39;49m\u001b[39m.\u001b[39;49msignature\u001b[39m.\u001b[39;49mname),\n\u001b[0;32m    <a href='file:///c%3A/Users/Admin/AppData/Local/Programs/Python/Python310/lib/site-packages/tensorflow/python/eager/function.py?line=500'>501</a>\u001b[0m         num_outputs\u001b[39m=\u001b[39;49m\u001b[39mself\u001b[39;49m\u001b[39m.\u001b[39;49m_num_outputs,\n\u001b[0;32m    <a href='file:///c%3A/Users/Admin/AppData/Local/Programs/Python/Python310/lib/site-packages/tensorflow/python/eager/function.py?line=501'>502</a>\u001b[0m         inputs\u001b[39m=\u001b[39;49margs,\n\u001b[0;32m    <a href='file:///c%3A/Users/Admin/AppData/Local/Programs/Python/Python310/lib/site-packages/tensorflow/python/eager/function.py?line=502'>503</a>\u001b[0m         attrs\u001b[39m=\u001b[39;49mattrs,\n\u001b[0;32m    <a href='file:///c%3A/Users/Admin/AppData/Local/Programs/Python/Python310/lib/site-packages/tensorflow/python/eager/function.py?line=503'>504</a>\u001b[0m         ctx\u001b[39m=\u001b[39;49mctx)\n\u001b[0;32m    <a href='file:///c%3A/Users/Admin/AppData/Local/Programs/Python/Python310/lib/site-packages/tensorflow/python/eager/function.py?line=504'>505</a>\u001b[0m   \u001b[39melse\u001b[39;00m:\n\u001b[0;32m    <a href='file:///c%3A/Users/Admin/AppData/Local/Programs/Python/Python310/lib/site-packages/tensorflow/python/eager/function.py?line=505'>506</a>\u001b[0m     outputs \u001b[39m=\u001b[39m execute\u001b[39m.\u001b[39mexecute_with_cancellation(\n\u001b[0;32m    <a href='file:///c%3A/Users/Admin/AppData/Local/Programs/Python/Python310/lib/site-packages/tensorflow/python/eager/function.py?line=506'>507</a>\u001b[0m         \u001b[39mstr\u001b[39m(\u001b[39mself\u001b[39m\u001b[39m.\u001b[39msignature\u001b[39m.\u001b[39mname),\n\u001b[0;32m    <a href='file:///c%3A/Users/Admin/AppData/Local/Programs/Python/Python310/lib/site-packages/tensorflow/python/eager/function.py?line=507'>508</a>\u001b[0m         num_outputs\u001b[39m=\u001b[39m\u001b[39mself\u001b[39m\u001b[39m.\u001b[39m_num_outputs,\n\u001b[1;32m   (...)\u001b[0m\n\u001b[0;32m    <a href='file:///c%3A/Users/Admin/AppData/Local/Programs/Python/Python310/lib/site-packages/tensorflow/python/eager/function.py?line=510'>511</a>\u001b[0m         ctx\u001b[39m=\u001b[39mctx,\n\u001b[0;32m    <a href='file:///c%3A/Users/Admin/AppData/Local/Programs/Python/Python310/lib/site-packages/tensorflow/python/eager/function.py?line=511'>512</a>\u001b[0m         cancellation_manager\u001b[39m=\u001b[39mcancellation_manager)\n",
      "File \u001b[1;32mc:\\Users\\Admin\\AppData\\Local\\Programs\\Python\\Python310\\lib\\site-packages\\tensorflow\\python\\eager\\execute.py:54\u001b[0m, in \u001b[0;36mquick_execute\u001b[1;34m(op_name, num_outputs, inputs, attrs, ctx, name)\u001b[0m\n\u001b[0;32m     <a href='file:///c%3A/Users/Admin/AppData/Local/Programs/Python/Python310/lib/site-packages/tensorflow/python/eager/execute.py?line=51'>52</a>\u001b[0m \u001b[39mtry\u001b[39;00m:\n\u001b[0;32m     <a href='file:///c%3A/Users/Admin/AppData/Local/Programs/Python/Python310/lib/site-packages/tensorflow/python/eager/execute.py?line=52'>53</a>\u001b[0m   ctx\u001b[39m.\u001b[39mensure_initialized()\n\u001b[1;32m---> <a href='file:///c%3A/Users/Admin/AppData/Local/Programs/Python/Python310/lib/site-packages/tensorflow/python/eager/execute.py?line=53'>54</a>\u001b[0m   tensors \u001b[39m=\u001b[39m pywrap_tfe\u001b[39m.\u001b[39;49mTFE_Py_Execute(ctx\u001b[39m.\u001b[39;49m_handle, device_name, op_name,\n\u001b[0;32m     <a href='file:///c%3A/Users/Admin/AppData/Local/Programs/Python/Python310/lib/site-packages/tensorflow/python/eager/execute.py?line=54'>55</a>\u001b[0m                                       inputs, attrs, num_outputs)\n\u001b[0;32m     <a href='file:///c%3A/Users/Admin/AppData/Local/Programs/Python/Python310/lib/site-packages/tensorflow/python/eager/execute.py?line=55'>56</a>\u001b[0m \u001b[39mexcept\u001b[39;00m core\u001b[39m.\u001b[39m_NotOkStatusException \u001b[39mas\u001b[39;00m e:\n\u001b[0;32m     <a href='file:///c%3A/Users/Admin/AppData/Local/Programs/Python/Python310/lib/site-packages/tensorflow/python/eager/execute.py?line=56'>57</a>\u001b[0m   \u001b[39mif\u001b[39;00m name \u001b[39mis\u001b[39;00m \u001b[39mnot\u001b[39;00m \u001b[39mNone\u001b[39;00m:\n",
      "\u001b[1;31mKeyboardInterrupt\u001b[0m: "
     ]
    }
   ],
   "source": [
    "%%time \n",
    "\n",
    "bert_history = bert_model.fit(train_encoded,\n",
    "                                epochs = EPOCHS,\n",
    "                                batch_size = BATCH_SIZE,\n",
    "                                validation_data = val_encoded)"
   ]
  },
  {
   "cell_type": "code",
   "execution_count": 76,
   "metadata": {},
   "outputs": [
    {
     "name": "stderr",
     "output_type": "stream",
     "text": [
      "All PyTorch model weights were used when initializing TFBertForSequenceClassification.\n",
      "\n",
      "Some weights or buffers of the TF 2.0 model TFBertForSequenceClassification were not initialized from the PyTorch model and are newly initialized: ['classifier.weight', 'classifier.bias']\n",
      "You should probably TRAIN this model on a down-stream task to be able to use it for predictions and inference.\n"
     ]
    }
   ],
   "source": [
    "model_new = TFBertForSequenceClassification.from_pretrained(PRE_TRAINED_MODEL, num_labels = 2, from_pt=True)\n",
    "model_new.load_weights(\"nyoba_plis_dpt_89.h5\")"
   ]
  },
  {
   "cell_type": "code",
   "execution_count": 77,
   "metadata": {},
   "outputs": [],
   "source": [
    "# Sample text\n",
    "input_text = 'Presiden Joko Widodo memastikan bahwa stok vaksin Covid-19 dosis ketiga atau booster yang dimiliki pemerintah mencukupi. Oleh karenanya, ia kembali mendorong masyarakat untuk segera mendapatkan vaksinasi tersebut. \"Stok vaksin Covid-19 pemerintah untuk booster lebih dari cukup,\" kata Jokowi melalui tayangan YouTube Sekretariat Presiden, Senin (30/5/2022).'"
   ]
  },
  {
   "cell_type": "code",
   "execution_count": 78,
   "metadata": {},
   "outputs": [],
   "source": [
    "input_text_tokenized =  bert_tokenizer.encode(input_text,\n",
    "                                              truncation = True,\n",
    "                                              padding = 'max_length',\n",
    "                                              return_tensors = 'tf')"
   ]
  },
  {
   "cell_type": "code",
   "execution_count": 79,
   "metadata": {},
   "outputs": [],
   "source": [
    "bert_predict = model_new(input_text_tokenized)\n",
    "bert_output = tf.nn.softmax(bert_predict[0], axis = -1)\n",
    "kategori = ['Valid', 'Hoax']\n",
    "label = tf.argmax(bert_output, axis = 1)\n",
    "label = label.numpy()"
   ]
  },
  {
   "cell_type": "code",
   "execution_count": 80,
   "metadata": {},
   "outputs": [
    {
     "name": "stdout",
     "output_type": "stream",
     "text": [
      "Narasi         :  Presiden Joko Widodo memastikan bahwa stok vaksin Covid-19 dosis ketiga atau booster yang dimiliki pemerintah mencukupi. Oleh karenanya, ia kembali mendorong masyarakat untuk segera mendapatkan vaksinasi tersebut. \"Stok vaksin Covid-19 pemerintah untuk booster lebih dari cukup,\" kata Jokowi melalui tayangan YouTube Sekretariat Presiden, Senin (30/5/2022).\n",
      "Hasil prediksi :  Valid\n"
     ]
    }
   ],
   "source": [
    "print('Narasi         : ', input_text)\n",
    "print('Hasil prediksi : ', kategori[label[0]])"
   ]
  },
  {
   "cell_type": "markdown",
   "metadata": {},
   "source": [
    "pickle"
   ]
  },
  {
   "cell_type": "code",
   "execution_count": 83,
   "metadata": {},
   "outputs": [
    {
     "name": "stderr",
     "output_type": "stream",
     "text": [
      "WARNING:absl:Found untraced functions such as embeddings_layer_call_fn, embeddings_layer_call_and_return_conditional_losses, encoder_layer_call_fn, encoder_layer_call_and_return_conditional_losses, pooler_layer_call_fn while saving (showing 5 of 420). These functions will not be directly callable after loading.\n"
     ]
    },
    {
     "name": "stdout",
     "output_type": "stream",
     "text": [
      "INFO:tensorflow:Assets written to: ram://2337646e-980a-4140-872a-5e9a8130afd9/assets\n"
     ]
    },
    {
     "name": "stderr",
     "output_type": "stream",
     "text": [
      "INFO:tensorflow:Assets written to: ram://2337646e-980a-4140-872a-5e9a8130afd9/assets\n"
     ]
    }
   ],
   "source": [
    "pickle.dump(model_new, open(\"trymodel1.pkl\", 'wb'))"
   ]
  },
  {
   "cell_type": "code",
   "execution_count": 84,
   "metadata": {},
   "outputs": [
    {
     "ename": "FileNotFoundError",
     "evalue": "Unsuccessful TensorSliceReader constructor: Failed to find any matching files for ram://d5366882-916b-42d4-8301-a1e10d1fdeb7/variables/variables\n You may be trying to load on a different device from the computational device. Consider setting the `experimental_io_device` option in `tf.saved_model.LoadOptions` to the io_device such as '/job:localhost'.",
     "output_type": "error",
     "traceback": [
      "\u001b[1;31m---------------------------------------------------------------------------\u001b[0m",
      "\u001b[1;31mFileNotFoundError\u001b[0m                         Traceback (most recent call last)",
      "\u001b[1;32md:\\sementara\\Projectan\\MBKM\\PA\\FakeNewsDetection\\Model\\modelnotebook.ipynb Cell 43'\u001b[0m in \u001b[0;36m<cell line: 1>\u001b[1;34m()\u001b[0m\n\u001b[1;32m----> <a href='vscode-notebook-cell:/d%3A/sementara/Projectan/MBKM/PA/FakeNewsDetection/Model/modelnotebook.ipynb#ch0000037?line=0'>1</a>\u001b[0m model \u001b[39m=\u001b[39m pickle\u001b[39m.\u001b[39;49mload(\u001b[39mopen\u001b[39;49m(\u001b[39m\"\u001b[39;49m\u001b[39mtrymodel1.pkl\u001b[39;49m\u001b[39m\"\u001b[39;49m, \u001b[39m'\u001b[39;49m\u001b[39mrb\u001b[39;49m\u001b[39m'\u001b[39;49m))\n",
      "File \u001b[1;32mc:\\Users\\Admin\\AppData\\Local\\Programs\\Python\\Python310\\lib\\site-packages\\keras\\saving\\pickle_utils.py:48\u001b[0m, in \u001b[0;36mdeserialize_model_from_bytecode\u001b[1;34m(serialized_model)\u001b[0m\n\u001b[0;32m     <a href='file:///c%3A/Users/Admin/AppData/Local/Programs/Python/Python310/lib/site-packages/keras/saving/pickle_utils.py?line=45'>46</a>\u001b[0m       \u001b[39mwith\u001b[39;00m tf\u001b[39m.\u001b[39mio\u001b[39m.\u001b[39mgfile\u001b[39m.\u001b[39mGFile(dest_path, \u001b[39m\"\u001b[39m\u001b[39mwb\u001b[39m\u001b[39m\"\u001b[39m) \u001b[39mas\u001b[39;00m f:\n\u001b[0;32m     <a href='file:///c%3A/Users/Admin/AppData/Local/Programs/Python/Python310/lib/site-packages/keras/saving/pickle_utils.py?line=46'>47</a>\u001b[0m         f\u001b[39m.\u001b[39mwrite(archive\u001b[39m.\u001b[39mextractfile(name)\u001b[39m.\u001b[39mread())\n\u001b[1;32m---> <a href='file:///c%3A/Users/Admin/AppData/Local/Programs/Python/Python310/lib/site-packages/keras/saving/pickle_utils.py?line=47'>48</a>\u001b[0m model \u001b[39m=\u001b[39m save_module\u001b[39m.\u001b[39;49mload_model(temp_dir)\n\u001b[0;32m     <a href='file:///c%3A/Users/Admin/AppData/Local/Programs/Python/Python310/lib/site-packages/keras/saving/pickle_utils.py?line=48'>49</a>\u001b[0m tf\u001b[39m.\u001b[39mio\u001b[39m.\u001b[39mgfile\u001b[39m.\u001b[39mrmtree(temp_dir)\n\u001b[0;32m     <a href='file:///c%3A/Users/Admin/AppData/Local/Programs/Python/Python310/lib/site-packages/keras/saving/pickle_utils.py?line=49'>50</a>\u001b[0m \u001b[39mreturn\u001b[39;00m model\n",
      "File \u001b[1;32mc:\\Users\\Admin\\AppData\\Local\\Programs\\Python\\Python310\\lib\\site-packages\\keras\\utils\\traceback_utils.py:67\u001b[0m, in \u001b[0;36mfilter_traceback.<locals>.error_handler\u001b[1;34m(*args, **kwargs)\u001b[0m\n\u001b[0;32m     <a href='file:///c%3A/Users/Admin/AppData/Local/Programs/Python/Python310/lib/site-packages/keras/utils/traceback_utils.py?line=64'>65</a>\u001b[0m \u001b[39mexcept\u001b[39;00m \u001b[39mException\u001b[39;00m \u001b[39mas\u001b[39;00m e:  \u001b[39m# pylint: disable=broad-except\u001b[39;00m\n\u001b[0;32m     <a href='file:///c%3A/Users/Admin/AppData/Local/Programs/Python/Python310/lib/site-packages/keras/utils/traceback_utils.py?line=65'>66</a>\u001b[0m   filtered_tb \u001b[39m=\u001b[39m _process_traceback_frames(e\u001b[39m.\u001b[39m__traceback__)\n\u001b[1;32m---> <a href='file:///c%3A/Users/Admin/AppData/Local/Programs/Python/Python310/lib/site-packages/keras/utils/traceback_utils.py?line=66'>67</a>\u001b[0m   \u001b[39mraise\u001b[39;00m e\u001b[39m.\u001b[39mwith_traceback(filtered_tb) \u001b[39mfrom\u001b[39;00m \u001b[39mNone\u001b[39m\n\u001b[0;32m     <a href='file:///c%3A/Users/Admin/AppData/Local/Programs/Python/Python310/lib/site-packages/keras/utils/traceback_utils.py?line=67'>68</a>\u001b[0m \u001b[39mfinally\u001b[39;00m:\n\u001b[0;32m     <a href='file:///c%3A/Users/Admin/AppData/Local/Programs/Python/Python310/lib/site-packages/keras/utils/traceback_utils.py?line=68'>69</a>\u001b[0m   \u001b[39mdel\u001b[39;00m filtered_tb\n",
      "File \u001b[1;32mc:\\Users\\Admin\\AppData\\Local\\Programs\\Python\\Python310\\lib\\site-packages\\tensorflow\\python\\saved_model\\load.py:977\u001b[0m, in \u001b[0;36mload_internal\u001b[1;34m(export_dir, tags, options, loader_cls, filters)\u001b[0m\n\u001b[0;32m    <a href='file:///c%3A/Users/Admin/AppData/Local/Programs/Python/Python310/lib/site-packages/tensorflow/python/saved_model/load.py?line=973'>974</a>\u001b[0m   loader \u001b[39m=\u001b[39m loader_cls(object_graph_proto, saved_model_proto, export_dir,\n\u001b[0;32m    <a href='file:///c%3A/Users/Admin/AppData/Local/Programs/Python/Python310/lib/site-packages/tensorflow/python/saved_model/load.py?line=974'>975</a>\u001b[0m                       ckpt_options, options, filters)\n\u001b[0;32m    <a href='file:///c%3A/Users/Admin/AppData/Local/Programs/Python/Python310/lib/site-packages/tensorflow/python/saved_model/load.py?line=975'>976</a>\u001b[0m \u001b[39mexcept\u001b[39;00m errors\u001b[39m.\u001b[39mNotFoundError \u001b[39mas\u001b[39;00m err:\n\u001b[1;32m--> <a href='file:///c%3A/Users/Admin/AppData/Local/Programs/Python/Python310/lib/site-packages/tensorflow/python/saved_model/load.py?line=976'>977</a>\u001b[0m   \u001b[39mraise\u001b[39;00m \u001b[39mFileNotFoundError\u001b[39;00m(\n\u001b[0;32m    <a href='file:///c%3A/Users/Admin/AppData/Local/Programs/Python/Python310/lib/site-packages/tensorflow/python/saved_model/load.py?line=977'>978</a>\u001b[0m       \u001b[39mstr\u001b[39m(err) \u001b[39m+\u001b[39m \u001b[39m\"\u001b[39m\u001b[39m\\n\u001b[39;00m\u001b[39m You may be trying to load on a different device \u001b[39m\u001b[39m\"\u001b[39m\n\u001b[0;32m    <a href='file:///c%3A/Users/Admin/AppData/Local/Programs/Python/Python310/lib/site-packages/tensorflow/python/saved_model/load.py?line=978'>979</a>\u001b[0m       \u001b[39m\"\u001b[39m\u001b[39mfrom the computational device. Consider setting the \u001b[39m\u001b[39m\"\u001b[39m\n\u001b[0;32m    <a href='file:///c%3A/Users/Admin/AppData/Local/Programs/Python/Python310/lib/site-packages/tensorflow/python/saved_model/load.py?line=979'>980</a>\u001b[0m       \u001b[39m\"\u001b[39m\u001b[39m`experimental_io_device` option in `tf.saved_model.LoadOptions` \u001b[39m\u001b[39m\"\u001b[39m\n\u001b[0;32m    <a href='file:///c%3A/Users/Admin/AppData/Local/Programs/Python/Python310/lib/site-packages/tensorflow/python/saved_model/load.py?line=980'>981</a>\u001b[0m       \u001b[39m\"\u001b[39m\u001b[39mto the io_device such as \u001b[39m\u001b[39m'\u001b[39m\u001b[39m/job:localhost\u001b[39m\u001b[39m'\u001b[39m\u001b[39m.\u001b[39m\u001b[39m\"\u001b[39m)\n\u001b[0;32m    <a href='file:///c%3A/Users/Admin/AppData/Local/Programs/Python/Python310/lib/site-packages/tensorflow/python/saved_model/load.py?line=981'>982</a>\u001b[0m root \u001b[39m=\u001b[39m loader\u001b[39m.\u001b[39mget(\u001b[39m0\u001b[39m)\n\u001b[0;32m    <a href='file:///c%3A/Users/Admin/AppData/Local/Programs/Python/Python310/lib/site-packages/tensorflow/python/saved_model/load.py?line=982'>983</a>\u001b[0m \u001b[39mif\u001b[39;00m \u001b[39misinstance\u001b[39m(loader, Loader):\n",
      "\u001b[1;31mFileNotFoundError\u001b[0m: Unsuccessful TensorSliceReader constructor: Failed to find any matching files for ram://d5366882-916b-42d4-8301-a1e10d1fdeb7/variables/variables\n You may be trying to load on a different device from the computational device. Consider setting the `experimental_io_device` option in `tf.saved_model.LoadOptions` to the io_device such as '/job:localhost'."
     ]
    }
   ],
   "source": [
    "model = pickle.load(open(\"trymodel1.pkl\", 'rb'))"
   ]
  },
  {
   "cell_type": "code",
   "execution_count": 49,
   "metadata": {},
   "outputs": [
    {
     "name": "stderr",
     "output_type": "stream",
     "text": [
      "Asking to pad to max_length but no maximum length is provided and the model has no predefined maximum length. Default to no padding.\n"
     ]
    }
   ],
   "source": [
    "inputan = input(\"text :\")\n",
    "input_text_tokenized =  bert_tokenizer.encode(inputan,\n",
    "                                              truncation = True,\n",
    "                                              padding = 'max_length',\n",
    "                                              return_tensors = 'tf')"
   ]
  },
  {
   "cell_type": "code",
   "execution_count": 55,
   "metadata": {},
   "outputs": [
    {
     "ename": "AttributeError",
     "evalue": "'NoneType' object has no attribute 'predict'",
     "output_type": "error",
     "traceback": [
      "\u001b[1;31m---------------------------------------------------------------------------\u001b[0m",
      "\u001b[1;31mAttributeError\u001b[0m                            Traceback (most recent call last)",
      "\u001b[1;32md:\\sementara\\Projectan\\MBKM\\PA\\FakeNewsDetection\\Model\\modelnotebook.ipynb Cell 40'\u001b[0m in \u001b[0;36m<cell line: 1>\u001b[1;34m()\u001b[0m\n\u001b[1;32m----> <a href='vscode-notebook-cell:/d%3A/sementara/Projectan/MBKM/PA/FakeNewsDetection/Model/modelnotebook.ipynb#ch0000039?line=0'>1</a>\u001b[0m bert_predict \u001b[39m=\u001b[39m model\u001b[39m.\u001b[39;49mpredict(input_text_tokenized)\n\u001b[0;32m      <a href='vscode-notebook-cell:/d%3A/sementara/Projectan/MBKM/PA/FakeNewsDetection/Model/modelnotebook.ipynb#ch0000039?line=1'>2</a>\u001b[0m bert_output \u001b[39m=\u001b[39m tf\u001b[39m.\u001b[39mnn\u001b[39m.\u001b[39msoftmax(bert_predict[\u001b[39m0\u001b[39m], axis \u001b[39m=\u001b[39m \u001b[39m-\u001b[39m\u001b[39m1\u001b[39m)\n",
      "\u001b[1;31mAttributeError\u001b[0m: 'NoneType' object has no attribute 'predict'"
     ]
    }
   ],
   "source": [
    "bert_predict = model(input_text_tokenized)\n",
    "bert_output = tf.nn.softmax(bert_predict[0], axis = -1)"
   ]
  },
  {
   "cell_type": "code",
   "execution_count": null,
   "metadata": {},
   "outputs": [],
   "source": [
    "kategori = ['Valid', 'Hoax']\n",
    "label = tf.argmax(bert_output, axis = 1)\n",
    "label = label.numpy()"
   ]
  },
  {
   "cell_type": "code",
   "execution_count": null,
   "metadata": {},
   "outputs": [],
   "source": [
    "print('Narasi         : ', inputan)\n",
    "print('Hasil prediksi : ', kategori[label[0]])"
   ]
  }
 ],
 "metadata": {
  "interpreter": {
   "hash": "a42ccb73e7d9bfdf27e036f1d2b8b681e55fc0743cc5586bc2474d4a60f4b886"
  },
  "kernelspec": {
   "display_name": "Python 3.10.2 64-bit",
   "language": "python",
   "name": "python3"
  },
  "language_info": {
   "codemirror_mode": {
    "name": "ipython",
    "version": 3
   },
   "file_extension": ".py",
   "mimetype": "text/x-python",
   "name": "python",
   "nbconvert_exporter": "python",
   "pygments_lexer": "ipython3",
   "version": "3.10.2"
  },
  "orig_nbformat": 4
 },
 "nbformat": 4,
 "nbformat_minor": 2
}
